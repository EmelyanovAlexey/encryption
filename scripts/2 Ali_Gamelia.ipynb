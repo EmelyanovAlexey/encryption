{
 "cells": [
  {
   "cell_type": "code",
   "execution_count": null,
   "metadata": {},
   "outputs": [],
   "source": [
    "import random"
   ]
  },
  {
   "cell_type": "markdown",
   "metadata": {},
   "source": [
    "# Алгоритм Эль-Гамаля"
   ]
  },
  {
   "cell_type": "code",
   "execution_count": 109,
   "metadata": {},
   "outputs": [],
   "source": [
    "n = 107\n",
    "x = 7\n",
    "g = 2\n"
   ]
  },
  {
   "cell_type": "code",
   "execution_count": 110,
   "metadata": {},
   "outputs": [
    {
     "name": "stdout",
     "output_type": "stream",
     "text": [
      "Первообразный корень по модулю 107: 2\n"
     ]
    }
   ],
   "source": [
    "def is_primitive_root(g, n):\n",
    "    required_set = set(num for num in range(1, n) if gcd(num, n) == 1)\n",
    "    return set(pow(g, powers, n) for powers in range(1, n)) == required_set\n",
    "\n",
    "def gcd(a, b):\n",
    "    while b:\n",
    "        a, b = b, a % b\n",
    "    return a\n",
    "\n",
    "def find_primitive_root(n):\n",
    "    for g in range(1, n):\n",
    "        if is_primitive_root(g, n):\n",
    "            return g\n",
    "    return None\n",
    "\n",
    "primitive_root = find_primitive_root(n)\n",
    "if primitive_root:\n",
    "    print(f'Первообразный корень по модулю {n}: {primitive_root}')\n",
    "else:\n",
    "    print(f'Первообразный корень для {n} не найден.')"
   ]
  },
  {
   "cell_type": "code",
   "execution_count": 111,
   "metadata": {},
   "outputs": [
    {
     "name": "stdout",
     "output_type": "stream",
     "text": [
      "y = 21\n"
     ]
    }
   ],
   "source": [
    "y = (g**(x)) % n\n",
    "print(f'y = {y}')"
   ]
  },
  {
   "cell_type": "code",
   "execution_count": 113,
   "metadata": {},
   "outputs": [
    {
     "name": "stdout",
     "output_type": "stream",
     "text": [
      "Открытый (107,2,21)\n",
      "Закрытый (7)\n"
     ]
    }
   ],
   "source": [
    "print(f'Открытый ({n},{g},{y})')\n",
    "print(f'Закрытый ({x})')"
   ]
  },
  {
   "cell_type": "code",
   "execution_count": 114,
   "metadata": {},
   "outputs": [],
   "source": [
    "#  Расшифровка\n",
    "def decrypt(private_key, public_key, ciphertext):\n",
    "    p, g, y = public_key\n",
    "    x = private_key\n",
    "    a, b = ciphertext\n",
    "    s = (b * (a**(p-1-x))) % p  #(b/(a**(x))) % p\n",
    "    return s\n",
    "\n",
    "# Шифрование\n",
    "def encrypt(public_key, m):\n",
    "    p, g, y = public_key\n",
    "    # Случайное число k от 1 до p-2\n",
    "    k = random.randint(1, p - 2)\n",
    "    # Вычисляем c1 и c2\n",
    "    c1 = pow(g, k, p)  # c1 = g^k mod p\n",
    "    c2 = (m * pow(y, k, p)) % p  # c2 = m * y^k mod p\n",
    "    return c1, c2"
   ]
  },
  {
   "cell_type": "code",
   "execution_count": 116,
   "metadata": {},
   "outputs": [
    {
     "name": "stdout",
     "output_type": "stream",
     "text": [
      "Зашифрованное сообщение: (57, 1)\n",
      "Расшифрованное сообщение: 20\n"
     ]
    }
   ],
   "source": [
    "message = 10\n",
    "\n",
    "myK = (n, g, y)\n",
    "ppp = (97, 5, 60)\n",
    "# Шифрование\n",
    "ciphertext = encrypt(ppp, message)\n",
    "print(f\"Зашифрованное сообщение: {ciphertext}\")\n",
    "\n",
    "# Расшифровка \n",
    "decrypted_message = decrypt(x, myK, m2)\n",
    "print(f\"Расшифрованное сообщение: {decrypted_message}\")"
   ]
  }
 ],
 "metadata": {
  "kernelspec": {
   "display_name": "Python 3",
   "language": "python",
   "name": "python3"
  },
  "language_info": {
   "codemirror_mode": {
    "name": "ipython",
    "version": 3
   },
   "file_extension": ".py",
   "mimetype": "text/x-python",
   "name": "python",
   "nbconvert_exporter": "python",
   "pygments_lexer": "ipython3",
   "version": "3.10.2"
  }
 },
 "nbformat": 4,
 "nbformat_minor": 2
}
